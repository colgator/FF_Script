{
 "cells": [
  {
   "cell_type": "code",
   "execution_count": null,
   "metadata": {},
   "outputs": [],
   "source": [
    "import subprocess,os,paramiko\n",
    "import os.path\n",
    "import threading"
   ]
  },
  {
   "cell_type": "code",
   "execution_count": null,
   "metadata": {},
   "outputs": [],
   "source": [
    "download_path = \"C:/Users/user/Downloads/\""
   ]
  },
  {
   "cell_type": "code",
   "execution_count": null,
   "metadata": {},
   "outputs": [],
   "source": [
    "def adb_conn():#確認 有連到 安卓設備  \n",
    "    a = os.popen('adb devices').read()\n",
    "    if len(a) == 26:#  List of devices attached  device空 的字串長度 \n",
    "        return(\"devices 為空\")\n",
    "    else:\n",
    "        print(a)\n",
    "    download_path = os.path.join(\"C:/Users/user/Downloads\")# 下載 apk的路徑\n",
    "    print('刪除 %s 路徑下,舊apk'%download_path)\n",
    "    filelist = os.listdir(download_path)# 路徑下的檔案\n",
    "    for file in filelist:# 先刪除 本地  apk, 避免重複檔案\n",
    "        if any(yft in file for yft in ['yulin','feiao','tianya']):# 找出路性檔案有包含 此擋名的 yft\n",
    "            print('%s 刪除'%file)\n",
    "            os.remove(\"%s/%s\"%(download_path,file))# 先刪除\n",
    "apk_conn()"
   ]
  },
  {
   "cell_type": "code",
   "execution_count": null,
   "metadata": {},
   "outputs": [],
   "source": [
    "def sftp_conn(file_type): # 連到 apk 路徑下 ,去下載最新的apk ,到本地路徑下 , 有需要 載lite的化 , filename帶lite\n",
    "    host=\"10.6.1.100\"\n",
    "    port = 22897\n",
    "    user = 'TW_RD'\n",
    "    password = '27ZrKw^h2e2rFnph'\n",
    "    ssh = paramiko.SSHClient()\n",
    "    ssh.set_missing_host_key_policy(paramiko.AutoAddPolicy())\n",
    "    ssh.connect(hostname=host,port=port,username=user,password=password)\n",
    "    sftp = paramiko.Transport((host,port))\n",
    "    sftp.connect(username=user,password=password)\n",
    "    sftpssh = paramiko.SFTPClient.from_transport(sftp)\n",
    "    remote_path = \"/home/img-server/apks/yft_prd/\"# apk 路徑\n",
    "    files = sftpssh.listdir_attr(remote_path)\n",
    "    remote_files = [x.filename for x in sorted(sftpssh.listdir_attr(remote_path), \n",
    "    key = lambda f: f.st_mtime)]\n",
    "    if file_type == 'lite':# Lite 輕量 也找出來 \n",
    "        lite_files = [i for i in remote_files if 'lite' in i]\n",
    "        print('Lite下載中..')\n",
    "        for f in lite_files[-3:]:\n",
    "            print(f)\n",
    "            sftpssh.get(os.path.join(remote_path+f),os.path.join(download_path+f))\n",
    "            p = subprocess.Popen('adb.exe'+ ' install -r %s'%download_path+f,# 下載到手機 \n",
    "            stdout=subprocess.PIPE, stderr=subprocess.PIPE, shell=True, universal_newlines=True)# 下載檔案\n",
    "            out = p.communicate()[0]\n",
    "            if 'Success' not in out:\n",
    "                print('下載失敗')\n",
    "            else:\n",
    "                print('下載完成')\n",
    "    print('一般下載中..')\n",
    "    for f in remote_files[-3:]:\n",
    "        print(f)\n",
    "        sftpssh.get(os.path.join(remote_path+f),os.path.join(download_path+f))\n",
    "        p = subprocess.Popen('adb.exe'+ ' install -r %s'%download_path+f, \n",
    "        stdout=subprocess.PIPE, stderr=subprocess.PIPE, shell=True, universal_newlines=True)# 下載檔案\n",
    "        out = p.communicate()[0]\n",
    "        if 'Success' not in out:\n",
    "            print('下載失敗')\n",
    "        else:\n",
    "            print('下載完成')\n",
    "    sftp.close()\n",
    "sftp_conn('lit')"
   ]
  },
  {
   "cell_type": "code",
   "execution_count": null,
   "metadata": {},
   "outputs": [],
   "source": [
    "# 下載到 手機\n",
    "#for filename in ['yulin','feiao','tianya']:\n",
    "print(download_path+'lottery_feiao_v4.0.4.apk')\n",
    "p = subprocess.Popen('adb.exe'+ ' install -r %s'%download_path+'lottery_feiao_v4.0.4.apk' , \n",
    "stdout=subprocess.PIPE, stderr=subprocess.PIPE, shell=True, universal_newlines=True)# 下載檔案\n",
    "out = p.communicate()[0]\n",
    "print(filename+' '+out)\n"
   ]
  },
  {
   "cell_type": "code",
   "execution_count": null,
   "metadata": {},
   "outputs": [],
   "source": [
    "os.popen('adb ').read()"
   ]
  }
 ],
 "metadata": {
  "kernelspec": {
   "display_name": "Python 3",
   "language": "python",
   "name": "python3"
  },
  "language_info": {
   "codemirror_mode": {
    "name": "ipython",
    "version": 3
   },
   "file_extension": ".py",
   "mimetype": "text/x-python",
   "name": "python",
   "nbconvert_exporter": "python",
   "pygments_lexer": "ipython3",
   "version": "3.7.0"
  }
 },
 "nbformat": 4,
 "nbformat_minor": 2
}
