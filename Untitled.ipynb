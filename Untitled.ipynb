{
 "cells": [
  {
   "cell_type": "code",
   "execution_count": 1,
   "metadata": {},
   "outputs": [
    {
     "name": "stdout",
     "output_type": "stream",
     "text": [
      "投注彩種： [99104, 99103, 99106, 99107, 99108, 99109, 99301, 99302, 99303, 99401, 99105, 99111, 99112, 99501, 99601, 99502, 99117, 99118, 99801, 99116, 99123, 99124, 99128, 99129, 99306, 99602, 99603, 99115, 99125, 99101, 99114, 99119, 99120, 99121, 99122, 99206, 99126, 99127]\n"
     ]
    }
   ],
   "source": [
    "import super_betcontent\n",
    "\n",
    "lottery_list = []\n",
    "for i in super_betcontent.lottery_all:\n",
    "    if len(super_betcontent.lottery_all[i]) == 4:\n",
    "        lottery_list.append(i)\n",
    "print(f'投注彩種： {lottery_list}')"
   ]
  }
 ],
 "metadata": {
  "kernelspec": {
   "display_name": "Python 3",
   "language": "python",
   "name": "python3"
  },
  "language_info": {
   "codemirror_mode": {
    "name": "ipython",
    "version": 3
   },
   "file_extension": ".py",
   "mimetype": "text/x-python",
   "name": "python",
   "nbconvert_exporter": "python",
   "pygments_lexer": "ipython3",
   "version": "3.8.6"
  }
 },
 "nbformat": 4,
 "nbformat_minor": 4
}
