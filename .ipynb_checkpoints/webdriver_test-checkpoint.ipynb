{
 "cells": [
  {
   "cell_type": "code",
   "execution_count": 2,
   "metadata": {},
   "outputs": [],
   "source": [
    "import unittest\n",
    "from selenium import webdriver\n",
    "from bs4 import BeautifulSoup\n",
    "from selenium.common.exceptions import WebDriverException \n",
    "from selenium.common.exceptions import InvalidSelectorException\n",
    "from selenium.common.exceptions import NoSuchElementException\n",
    "from selenium.common.exceptions import  ElementClickInterceptedException\n",
    "from selenium.webdriver.support.wait import WebDriverWait\n",
    "from selenium.webdriver.support import expected_conditions as EC\n",
    "from selenium.common.exceptions import ElementNotVisibleException\n",
    "from selenium.common.exceptions import ElementNotInteractableException\n",
    "from time import sleep\n",
    "import HTMLTestRunner\n",
    "import re\n",
    "import random"
   ]
  },
  {
   "cell_type": "code",
   "execution_count": null,
   "metadata": {},
   "outputs": [],
   "source": [
    "dr = webdriver.Chrome()\n",
    "id_ = dr.find_element_by_id\n",
    "xpath = dr.find_element_by_xpath\n",
    "class_ = dr.find_element_by_class_name\n",
    "css = dr.find_element_by_css_selector\n",
    "link = dr.find_element_by_link_text\n"
   ]
  },
  {
   "cell_type": "code",
   "execution_count": null,
   "metadata": {},
   "outputs": [],
   "source": [
    "dr.refresh()"
   ]
  },
  {
   "cell_type": "code",
   "execution_count": null,
   "metadata": {},
   "outputs": [],
   "source": [
    "def login(env):\n",
    "    global em_url,www_url\n",
    "    try:\n",
    "        if env == 'joy188': \n",
    "            www_url = 'http://www2.%s.com/'%env\n",
    "            em_url = 'http://em.%s.com/'%env\n",
    "            dr.get(www_url)\n",
    "            user = 'kerr001'\n",
    "            password = 'amberrd'\n",
    "\n",
    "        elif env in ['dev02','dev03']:\n",
    "            www_url = 'http://www.%s.com/'%env\n",
    "            em_url = 'http://em.%s.com/'%env\n",
    "            dr.get(www_url)\n",
    "            user = 'hsieh001'\n",
    "            password = '123qwe'\n",
    "        elif env == 'xinu88':\n",
    "            www_url = 'https://www.%s.com/'%env\n",
    "            em_url = 'https://em.%s.com/'%env\n",
    "            dr.get(www_url)\n",
    "            user = 'tpqajay4d0'\n",
    "            password = 'real$0823'\n",
    "        dr.find_element_by_id('J-user-name').send_keys(user)\n",
    "        dr.find_element_by_id('J-user-password').send_keys(password)\n",
    "        dr.find_element_by_id('J-form-submit').click()\n",
    "        sleep(3)\n",
    "    except NoSuchElementException as e:\n",
    "        print(e)\n",
    "    except ElementClickInterceptedException as e:\n",
    "        print(e)\n",
    "        \n",
    "login('dev02')"
   ]
  },
  {
   "cell_type": "code",
   "execution_count": null,
   "metadata": {},
   "outputs": [],
   "source": [
    "dr.refresh()"
   ]
  },
  {
   "cell_type": "code",
   "execution_count": null,
   "metadata": {},
   "outputs": [],
   "source": [
    "css('li.wuxing').click()\n",
    "xpath(\"//dd[@data-type='wuxing.zhixuan.danshi']\").click()"
   ]
  },
  {
   "cell_type": "code",
   "execution_count": null,
   "metadata": {},
   "outputs": [],
   "source": [
    "try:\n",
    "    if xpath(\"//input[@class='radio']\").is_displayed():\n",
    "        pass\n",
    "    else:\n",
    "        xpath(\"//input[@class='radio']\").click()\n",
    "        link('确 认').click()\n",
    "        dr.refresh()\n",
    "except NoSuchElementException:\n",
    "    pass"
   ]
  },
  {
   "cell_type": "code",
   "execution_count": null,
   "metadata": {},
   "outputs": [],
   "source": [
    "#webdriver 註冊 \n",
    "def register_user(num,register_url,register_name):#num數量,註冊連結.註冊用戶名\n",
    "    for i in range(1,num,1):\n",
    "        while True:\n",
    "            try:\n",
    "                dr.get(register_url)\n",
    "                if '188' in register_url:\n",
    "                    password = 'amberrd'\n",
    "                elif 'dev' in register_url:\n",
    "                    password = '123qwe'\n",
    "                else:\n",
    "                    print('註冊連結網域確認')\n",
    "                    break\n",
    "                id_('J-input-username').send_keys('%s%s'%(register_name,'{:03d}'.format(i)))\n",
    "                id_('J-input-password').send_keys(password)\n",
    "                id_('J-input-password2').send_keys(password)\n",
    "                id_('J-button-submit').click()\n",
    "                if dr.current_url == '%sindex'%www_url:\n",
    "                    break\n",
    "                else:\n",
    "                    register_user = '%s%s'%(register_name,'{:03d}'.format(i))\n",
    "                    print('%s註冊成功'%register_user)\n",
    "                dr.get(www_url)#最後回首頁\n",
    "                break\n",
    "            except ElementNotInteractableException:\n",
    "                pass\n",
    "                break\n",
    "            except NoSuchElementException :\n",
    "                pass\n",
    "                break\n",
    "\n",
    "register_user(num=10,register_url='http://www2.joy188.com/8c8/hdwydE',register_name='kerr1220')"
   ]
  },
  {
   "cell_type": "code",
   "execution_count": null,
   "metadata": {},
   "outputs": [],
   "source": [
    "def fund_test():\n",
    "    fund_type = {'expressRecharge':'網銀','netRemit':'銀行卡充值','unionpayRecharge':'快捷','alipay':'支付寶','alipay2':'支付寶2',\n",
    "    'wechat':'微信','wechat2':'微信2','wechatFixed':'微信定額','unionpayqr':'銀聯掃馬',\n",
    "    'alipayTransBank':'支付保轉銀行卡','alipayFixed':'支付保定額','usdtRecharge':'usdt',\n",
    "    'wechatTransBank':'微信轉銀行卡'}\n",
    "    fund_index = {'1':'網銀','0':'銀行卡充值','3':'快捷','4':'支付寶','16':'支付寶2',\n",
    "    '5':'微信','17':'微信2','10':'微信定額','8':'銀聯掃馬',\n",
    "    '8':'支付保轉銀行卡','11':'支付保定額','12':'usdt','15':'微信轉銀行卡'}\n",
    "\n",
    "\n",
    "    for fund in fund_index.keys():\n",
    "        try:\n",
    "            print(fund_index[fund])\n",
    "            dr.get('http://www.dev02.com/fund/index?type=%s'%fund)#id_element(fund)\n",
    "            if fund in ['0','1']:\n",
    "                if id_('selectBank').text =='- 请选择银行 -':\n",
    "\n",
    "                    id_('icoName').click()#充值銀行 點選 ,會顯示 各種方式\n",
    "                    class_('CCB').click()#建設銀行\n",
    "                else:\n",
    "                    pass\n",
    "                id_('chargeamount').send_keys('100')#充值金額輸入\n",
    "                id_('J-Submit').click()#發起\n",
    "\n",
    "\n",
    "            elif fund in ['10','11']:\n",
    "                link('100').click()\n",
    "                id_('J-next-step').click()\n",
    "            else:\n",
    "                id_('chargeamount').send_keys('100')#充值金額輸入\n",
    "                id_('J-next-step').click()#發起\n",
    "\n",
    "        except ElementClickInterceptedException:\n",
    "            pass"
   ]
  },
  {
   "cell_type": "code",
   "execution_count": null,
   "metadata": {},
   "outputs": [],
   "source": [
    "dr.get(www_url)"
   ]
  },
  {
   "cell_type": "code",
   "execution_count": null,
   "metadata": {},
   "outputs": [],
   "source": [
    "id_('app-download-btn').get_attribute('href')"
   ]
  },
  {
   "cell_type": "code",
   "execution_count": null,
   "metadata": {},
   "outputs": [],
   "source": [
    "soup = BeautifulSoup(dr.page_source,'lxml')\n",
    "href_list = [i.get('href') for i in soup.find_all('a',href=re.compile(\"^[#n]+\"))]\n",
    "print(href_list)\n"
   ]
  },
  {
   "cell_type": "code",
   "execution_count": null,
   "metadata": {
    "scrolled": true
   },
   "outputs": [],
   "source": [
    "soup = BeautifulSoup(dr.page_source,'lxml')\n",
    "#href = soup.find_all('a')#href=re.compile(\"^(/)\")\n",
    "href_list = [i.get('href') for i in soup.find_all('a',href=re.compile(\"^(/)\"))]\n",
    "dr_url = []#存拜訪過的url\n",
    "href_set = set(href_list)\n",
    "print(href_set)\n",
    "#print(id_('mobileAPPdownload').get_attribute('href'))#下載首頁\n",
    "#id_('app-download-btn').get_attribute('href') ,首頁才有\n"
   ]
  },
  {
   "cell_type": "code",
   "execution_count": null,
   "metadata": {},
   "outputs": [],
   "source": [
    "def footp_list():#足跡驗證\n",
    "    soup = BeautifulSoup(dr.page_source,'lxml')\n",
    "    foot_list = soup.find_all('div',{'class':'footp-list'})\n",
    "    foot_list = list(foot_list[0])\n",
    "    foot_dict = {}\n",
    "    for i in foot_list:\n",
    "        foot_dict[i.text] = i['href']\n",
    "    print('我得足跡: %s'%foot_dict)\n",
    "footp_list()"
   ]
  },
  {
   "cell_type": "code",
   "execution_count": null,
   "metadata": {},
   "outputs": [],
   "source": [
    "id_('new-showAllBall').click()"
   ]
  },
  {
   "cell_type": "code",
   "execution_count": null,
   "metadata": {},
   "outputs": [],
   "source": [
    " for i in element_list:#上方導航覽 跑一遍\n",
    "    id_(i).click()\n",
    "    sleep(0.5)"
   ]
  },
  {
   "cell_type": "code",
   "execution_count": null,
   "metadata": {},
   "outputs": [],
   "source": [
    "element_list = ['new-showAllBall','headerLottery','J-btn-card','live','J-btn-sport','J-btn-esport',\n",
    "'J-btn-egames', 'J-btn-download','footprint']\n",
    "while True:\n",
    "    for i in href_set:\n",
    "        try:\n",
    "            if i[-1] == '/':\n",
    "                i = i[:-1]\n",
    "            if 'lhc' in i:\n",
    "                dr.refresh()\n",
    "            if 'em' in i:\n",
    "                dr.get('http:%s'%i)\n",
    "            elif 'pt' in i :\n",
    "                dr.get('http:%s'%i)\n",
    "            elif i in dr_url:\n",
    "                pass\n",
    "                break\n",
    "            else:\n",
    "                dr.get(www_url+i)\n",
    "            print(dr.title)\n",
    "            print(dr.current_url)\n",
    "            print('APP下載中心連結'+id_('mobileAPPdownload').get_attribute('href'))\n",
    "            id_('new-showAllBall').click()\n",
    "            footp_list()\n",
    "            for i in element_list:#上方導航覽 跑一遍\n",
    "                id_(i).click()\n",
    "                sleep(0.5)\n",
    "            dr_url.append(i)\n",
    "        except NoSuchElementException as e:\n",
    "\n",
    "            if 'mobileAPPdownload' in str(e):\n",
    "                print('此頁沒有下載中心')\n",
    "            else:\n",
    "                print(e)\n",
    "            continue\n",
    "        except ElementClickInterceptedException as e:\n",
    "            if 'id=\"new-showAllBal' in str(e):\n",
    "                print('刷新餘額功能確認')\n",
    "            else:\n",
    "                print(e)\n",
    "            continue\n",
    "    break\n",
    "    "
   ]
  },
  {
   "cell_type": "code",
   "execution_count": null,
   "metadata": {},
   "outputs": [],
   "source": [
    "url_list = [dr.current_url]\n",
    "list_href = []#存放抓的url\n",
    "lottery_list = []#彩種清單\n",
    "thirdy_list = []#第三方清單 \n",
    "\n",
    "def test_soup():\n",
    "    global list_href,url_list,len_list\n",
    "    #url_list.append(dr.current_url)\n",
    "    soup = BeautifulSoup(dr.page_source,'lxml')\n",
    "    \n",
    "    href = soup.find_all('a',href=re.compile(\"^(/)\"))#正則,  /開頭的url\n",
    "    href_list = [i.get('href') for i in href]\n",
    "    list_href = set(href_list)\n",
    "       \n",
    "    #print(soup)\n",
    "test_soup()\n",
    "\n"
   ]
  },
  {
   "cell_type": "code",
   "execution_count": null,
   "metadata": {},
   "outputs": [],
   "source": [
    "def game_info():#遊戲說明頁\n",
    "    for i in lottery_list:\n",
    "        try:\n",
    "            print(i)\n",
    "\n",
    "            dr.get(em_url+'/gameBet/%s'%i)\n",
    "            soup = BeautifulSoup(dr.page_source,'lxml')\n",
    "            if i == 'jsdice' :\n",
    "                element = 'shortcuts'\n",
    "            elif i == 'jldice1':\n",
    "                element = 'shortcuts'\n",
    "            elif i == 'jldece2':\n",
    "                element = 'shortcuts'\n",
    "            else:\n",
    "                element = 'lottery-tipslink'\n",
    "\n",
    "\n",
    "            #print(soup)\n",
    "            for a in soup.find_all('div',{'class':element}):\n",
    "                print(a.find_all('a')[0])\n",
    "                print(a.find_all('a')[1])\n",
    "        except IndexError:\n",
    "            pass\n"
   ]
  },
  {
   "cell_type": "code",
   "execution_count": null,
   "metadata": {
    "scrolled": true
   },
   "outputs": [],
   "source": [
    "def assert_text(text,element):\n",
    "    if text in id_(element).text:\n",
    "        pass\n",
    "    else:\n",
    "        print('缺少 %s'%text)\n",
    "def assert_url(element,url):\n",
    "    if css(element).get_attribute('href') in url:\n",
    "        pass\n",
    "    else:\n",
    "        print('%s ,有誤'%css(element).text)\n",
    "def test_header():\n",
    "    while True:\n",
    "        try:\n",
    "            '''\n",
    "            if id_('hiddBall').get_attribute('style') == 'display: inline;':#判斷 餘額是否顯示\n",
    "                pass\n",
    "            else:\n",
    "                id_('showAllBall').click()\n",
    "            '''    \n",
    "            element_list = ['new-showAllBall','headerLottery','J-btn-card','live','J-btn-sport','J-btn-esport',\n",
    "            'J-btn-egames', 'J-btn-download','footprint']\n",
    "            for i in element_list:\n",
    "                id_(i).click()\n",
    "                sleep(0.5)\n",
    "            #assert_text('钱包','spanBall')\n",
    "            #assert_text('联盟防伪认证','lm-QrCode')\n",
    "            \n",
    "            assert_text('我的足迹','footprint')\n",
    "            assert_text('消息','msg-title')\n",
    "            assert_text('域名中心','doaminCheck') \n",
    "            assert_text('首页','honeindex')\n",
    "            assert_text('彩票','headerLottery')\n",
    "            assert_text('棋牌','card')\n",
    "            assert_text('真人','live') \n",
    "            assert_text('体育','sport')\n",
    "            assert_text('电竞','esport')\n",
    "            assert_text('电子游艺','egames')\n",
    "            assert_text('下载中心','downloadCenter')\n",
    "            \n",
    "            assert_url('a#mobileAPPdownload','http://ios1.phl5b.org/mobileApp/index.html')\n",
    "            assert_url('a#PTClientcenter','http://download.ph158nb.com:9527/pt/fh_pt_client.exe')\n",
    "            assert_url('a#DCSafecenter','http://ios1.phl5b.org/safeApp/index.html')\n",
    "            assert_url('a#infofhx',\"http://www.ph158.cc/\")\n",
    "            assert_url('a#doaminCheck','https://www.ph158.info/')\n",
    "            js=\"var action=document.documentElement.scrollTop=10000\"\n",
    "            dr.execute_script(js)#視窗往下移\n",
    "            sleep(1)\n",
    "            if '2003-2019' in xpath('//*[@id=\"jsFooter\"]/div/p[1]').text:\n",
    "                print('copyright ok')\n",
    "            else:\n",
    "                print(xpath('//*[@id=\"jsFooter\"]/div/p[1]').text)\n",
    "            \n",
    "            break\n",
    "\n",
    "        except NoSuchElementException as e:\n",
    "            if 'jsFooter' in str(e):\n",
    "                print('無需copyright')\n",
    "            else:                \n",
    "                pass\n",
    "            \n",
    "            break\n",
    "        except ElementClickInterceptedException as e:\n",
    "            pass\n",
    "            dr.refresh()\n",
    "        except ElementNotInteractableException as e:\n",
    "            print('此頁導航覽 為舊版')\n",
    "            break\n",
    "test_header()"
   ]
  },
  {
   "cell_type": "code",
   "execution_count": null,
   "metadata": {},
   "outputs": [],
   "source": [
    "a = len_list# 用來控制 ,拜訪完 首頁 後抓取的完後,就不再 抓取\n",
    "for i in range(len_list):\n",
    "    #print(list_href[i])\n",
    "    if list_href[i][-1] == '/':  #避免有些 相同頁面, 不一致url問題\n",
    "        list_href[i] == list_href[0:-1]\n",
    "    else:\n",
    "        pass\n",
    "    if 'em' in list_href[i]:\n",
    "        url_ = 'http:%s'%list_href[i]\n",
    "        #dr.get('http:%s'%list_href[i])\n",
    "    elif 'www' in list_href[i]:\n",
    "        url_ = 'http:%s'%list_href[i]\n",
    "        #dr.get('http:%s'%list_href[i])\n",
    "    elif 'pt' in list_href[i]:\n",
    "        url_ = 'http:%s'%list_href[i]\n",
    "    elif list_href[i] in lottery_list:\n",
    "        url_ = em_url + 'gameBet/%s'%list_href[i]\n",
    "    elif list_href[i] in thirdy_list:\n",
    "        if list_href[i]  == 'fhll':\n",
    "            url_ =  www_url + 'fhll/home/77101'\n",
    "        elif list_href[i] == 'shaba':\n",
    "            url_ = www_url + 'shaba/home?act=sports'\n",
    "        else:\n",
    "            if list_href[i][0]  == '/':# 抓取url 統一規則, 避免com 後面有兩個斜線\n",
    "                list_href[i] = list_href[i][1:]\n",
    "            else:\n",
    "                pass\n",
    "            url_ = www_url+'%s/home'%list_href[i]\n",
    "    \n",
    "    else:\n",
    "        url_ = www_url+list_href[i]\n",
    "        #dr.get(www_url+list_href[i])\n",
    "    #print(url_)\n",
    "    if url_ in url_list:# 已經訪問過的  url\n",
    "        pass\n",
    "    elif 'll115' in url_:#沒使用的連結 \n",
    "        pass\n",
    "    elif 'jxssc' in url_:\n",
    "        pass\n",
    "    elif '?' in url_:\n",
    "        pass\n",
    "    else:\n",
    "        url_list.append(url_)\n",
    "        #print(url_list)\n",
    "        dr.get(url_)\n",
    "        if 'gns' in url_:\n",
    "            try:\n",
    "                xpath('/html/body/div[9]/a').click()\n",
    "                xpath('/html/body/div[10]/a').click()\n",
    "            except ElementNotInteractableException:\n",
    "                pass\n",
    "        else:    \n",
    "            pass\n",
    "        test_header()\n",
    "        print(dr.title)    \n",
    "        print(dr.current_url)\n",
    "        print('-------------------------')\n",
    "        # 一開始從首頁抓的 數量 , 和   list_href 持續抓取後的  去比對, len_list抓完手頁後,為固定值\n",
    "        test_soup()\n",
    "        \n",
    "'''        \n",
    "for i in list_href[a:]:\n",
    "    if '//' == i[-1] :  \n",
    "        i == i[0:-1]\n",
    "    else:\n",
    "        pass\n",
    "    if '//' in i:\n",
    "        url_ = 'http:'+ i\n",
    "    elif 'chart' in i:\n",
    "        url_ = em_url + i\n",
    "    else:\n",
    "        url_ = www_url+i\n",
    "    \n",
    "    if url_ in url_list:# 已經訪問過的  url\n",
    "        pass\n",
    "    elif '?' in url_:\n",
    "        pass\n",
    "    else:\n",
    "        test_header()\n",
    "        print(dr.title)    \n",
    "        #print(dr.current_url\n",
    "        print('-------------------------')\n",
    "'''"
   ]
  },
  {
   "cell_type": "code",
   "execution_count": null,
   "metadata": {},
   "outputs": [],
   "source": [
    "\n",
    "def test_fhll():#真人不同帳號投注腳本\n",
    "    for i in range(1,9,1):\n",
    "        if i == 1:\n",
    "            dr.get('http://www.dev02.com')\n",
    "        else:\n",
    "            dr.get('http://www.dev02.com/login')\n",
    "        try:\n",
    "            id_('J-user-name').send_keys('hsieh00%s'%i)\n",
    "            id_('J-user-password').send_keys('123qwe')\n",
    "            id_('J-form-submit').click()\n",
    "            sleep(3)\n",
    "            dr.get('http://www.dev02.com/fhll/home/77104')\n",
    "            sleep(3)\n",
    "            if id_('popIntro').is_displayed():#第一次近來用戶,會有彈窗\n",
    "                id_('popIntro').click()\n",
    "            else:\n",
    "                pass\n",
    "            dr.switch_to.frame(0)#切換Iframe\n",
    "            for i in range(3):\n",
    "                for i in range(1,6,1):\n",
    "                    xpath('//*[@id=\"J-balls-main-panel\"]/div/div[2]/ul/li[%s]/div[2]/a[2]'%i).click()\n",
    "\n",
    "                id_('J-fast-submit').click()#立即投注\n",
    "\n",
    "                css('a.btn.confirm').click()#確認按鈕\n",
    "\n",
    "                while True:#投注確認完, 等投注彈窗出現\n",
    "                    if css('a.btn.closeTip').is_displayed():\n",
    "                        css('a.btn.closeTip').click()\n",
    "                        break\n",
    "                    else:\n",
    "                        continue\n",
    "        except WebDriverException:\n",
    "            break\n",
    "        except ElementNotVisibleException:\n",
    "            break"
   ]
  },
  {
   "cell_type": "code",
   "execution_count": null,
   "metadata": {},
   "outputs": [],
   "source": [
    "def xpath_fushi(element1,element2):\n",
    "    fushi_element = \"//dd[@data-type='%s.%s.fushi']\"%(element1,element2)\n",
    "    return fushi_element\n",
    "\n"
   ]
  },
  {
   "cell_type": "code",
   "execution_count": null,
   "metadata": {},
   "outputs": [],
   "source": [
    "Joy188Test.LINK(\"确 认\").click()"
   ]
  },
  {
   "cell_type": "code",
   "execution_count": null,
   "metadata": {},
   "outputs": [],
   "source": [
    "Joy188Test.game_ssh('no')"
   ]
  },
  {
   "cell_type": "code",
   "execution_count": null,
   "metadata": {},
   "outputs": [],
   "source": [
    " element_list = Joy188Test.normal_type('houer')#return 元素列表\n",
    "for i in element_list: #普通,五星玩法 元素列表\n",
    "    Joy188Test.css_element(i)"
   ]
  },
  {
   "cell_type": "code",
   "execution_count": null,
   "metadata": {},
   "outputs": [],
   "source": [
    "dr.refresh()"
   ]
  },
  {
   "cell_type": "code",
   "execution_count": null,
   "metadata": {},
   "outputs": [],
   "source": [
    "Joy188Test.test_jsdice()"
   ]
  },
  {
   "cell_type": "code",
   "execution_count": null,
   "metadata": {},
   "outputs": [],
   "source": [
    "Joy188Test.id_element('J-submit-order')#馬上投注"
   ]
  },
  {
   "cell_type": "code",
   "execution_count": null,
   "metadata": {},
   "outputs": [],
   "source": [
    "Joy188Test.xpath_element('//*[@id=\"J-dice-bar\"]/div[5]/a[1]')\n",
    "Joy188Test.result()\n",
    "Joy188Test.XPATH('/html/body/div[14]/a[1]').click()\n"
   ]
  },
  {
   "cell_type": "code",
   "execution_count": null,
   "metadata": {
    "scrolled": true
   },
   "outputs": [],
   "source": [
    "Joy188Test.xpath_element('/html/body/div[14]/a[1]')"
   ]
  },
  {
   "cell_type": "code",
   "execution_count": null,
   "metadata": {},
   "outputs": [],
   "source": [
    "for i in range(5):\n",
    "    Joy188Test.css_element('a.btn.btn-important')"
   ]
  },
  {
   "cell_type": "code",
   "execution_count": null,
   "metadata": {},
   "outputs": [],
   "source": [
    "import time\n",
    "if __name__ == '__main__':\n",
    "    suite = unittest.TestSuite()\n",
    "    test_submit = [Joy188Test('test_cqssc'),Joy188Test('test_hljssc'),Joy188Test('test_xjssc'),\n",
    "                  Joy188Test('test_fhcqc'),Joy188Test('test_fhxjc'),Joy188Test('test_btcffc'),\n",
    "                  ]\n",
    "    \n",
    "    \n",
    "    test_ = [Joy188Test('test_jsdice')]\n",
    "    \n",
    "    suite.addTests(test_)\n",
    "    runner = unittest.TextTestRunner(verbosity=2)\n",
    "    runner.run(suite)\n",
    "    '''\n",
    "    \n",
    "    \n",
    "    now = time.strftime('%Y_%m_%d %H-%M-%S')\n",
    "    filename = now + u'自動化測試' + '.html'\n",
    "    fp = open(filename, 'wb')\n",
    "    runner = HTMLTestRunner.HTMLTestRunner(\n",
    "            stream=fp,\n",
    "            title=u'測試報告',\n",
    "            description=u'環境: 188'\n",
    "            )\n",
    "    runner.run(suite)\n",
    "    fp.close()\n",
    "    '''\n",
    "    "
   ]
  },
  {
   "cell_type": "code",
   "execution_count": null,
   "metadata": {},
   "outputs": [],
   "source": [
    "Joy188Test.ID('diceCup').is_displayed()"
   ]
  },
  {
   "cell_type": "code",
   "execution_count": null,
   "metadata": {},
   "outputs": [],
   "source": [
    "dr = webdriver.Chrome()"
   ]
  },
  {
   "cell_type": "code",
   "execution_count": null,
   "metadata": {},
   "outputs": [],
   "source": [
    "xpath = dr.find_element_by_xpath\n",
    "class_ = dr.find_element_by_class_name\n",
    "css = dr.find_element_by_css_selector\n",
    "link = dr.find_element_by_link_text"
   ]
  },
  {
   "cell_type": "code",
   "execution_count": null,
   "metadata": {},
   "outputs": [],
   "source": [
    "element = css(\"div.j-ui-miniwindow.pop.w-9\")\n",
    "if element.is_displayed():\n",
    "    link(\"确 认\").click()\n",
    "else:\n",
    "    print('a')"
   ]
  },
  {
   "cell_type": "code",
   "execution_count": null,
   "metadata": {},
   "outputs": [],
   "source": [
    "css('dd.qianer').click()#change > ul.play-select-gameType > li:nth-child(3)"
   ]
  },
  {
   "cell_type": "code",
   "execution_count": null,
   "metadata": {},
   "outputs": [],
   "source": [
    "xpath('//*[@id=\"change\"]/ul[1]/li[3]').click()"
   ]
  },
  {
   "cell_type": "code",
   "execution_count": null,
   "metadata": {},
   "outputs": [],
   "source": [
    "xpath('//li[@game-mode=\"special\"]').click()"
   ]
  },
  {
   "cell_type": "code",
   "execution_count": null,
   "metadata": {},
   "outputs": [],
   "source": [
    "dr.find_element_by_css_selector('li.sixing.current > dl.zhixuan > dd.danshi').click()"
   ]
  },
  {
   "cell_type": "code",
   "execution_count": null,
   "metadata": {},
   "outputs": [],
   "source": [
    "dr.refresh()"
   ]
  }
 ],
 "metadata": {
  "kernelspec": {
   "display_name": "Python 3",
   "language": "python",
   "name": "python3"
  },
  "language_info": {
   "codemirror_mode": {
    "name": "ipython",
    "version": 3
   },
   "file_extension": ".py",
   "mimetype": "text/x-python",
   "name": "python",
   "nbconvert_exporter": "python",
   "pygments_lexer": "ipython3",
   "version": "3.8.6"
  }
 },
 "nbformat": 4,
 "nbformat_minor": 2
}
